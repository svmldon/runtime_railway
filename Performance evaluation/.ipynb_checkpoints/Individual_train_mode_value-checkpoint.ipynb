{
 "cells": [
  {
   "cell_type": "code",
   "execution_count": 1,
   "metadata": {},
   "outputs": [],
   "source": [
    "%run read_data_1point5.ipynb"
   ]
  },
  {
   "cell_type": "code",
   "execution_count": 3,
   "metadata": {},
   "outputs": [],
   "source": [
    "%run functionv2.ipynb"
   ]
  },
  {
   "cell_type": "code",
   "execution_count": 4,
   "metadata": {},
   "outputs": [
    {
     "name": "stdout",
     "output_type": "stream",
     "text": [
      "6.1056891300249845\n"
     ]
    }
   ],
   "source": [
    "start_time = timeit.default_timer()\n",
    "\n",
    "mode_u = copy.deepcopy(wtt_u)\n",
    "mode_d = copy.deepcopy(wtt_d)\n",
    "\n",
    "\n",
    "#f = open(\"Train_data_length.txt\", \"a\")\n",
    "for i in range(8):\n",
    "    runtime_block1 = []\n",
    "    for j in range(3,61):\n",
    "        data3 = rt_names[i].iloc[:,[0,j]]\n",
    "        #print(data3)\n",
    "        for l in range(54):\n",
    "            if (i>3):\n",
    "                wttv = wtt_d.iloc[l,j]\n",
    "                wtt_t = wtt_type_d.iloc[l,j]\n",
    "            else:\n",
    "                wttv = wtt_u.iloc[l,j]\n",
    "                wtt_t = wtt_type_u.iloc[l,j]\n",
    "                \n",
    "                \n",
    "            #Calculate runtime only from realised halt type data\n",
    "            if (wtt_t!=stop_type[i]):\n",
    "                continue\n",
    "                \n",
    "            #Getting runtime data    \n",
    "            if (i>3):\n",
    "                data1 = data3[data3['TrainMaskNo']==wtt_d.iloc[l,0]]\n",
    "            else:\n",
    "                data1 = data3[data3['TrainMaskNo']==wtt_u.iloc[l,0]]\n",
    "            data0 = data1.iloc[:,1]\n",
    "            original_data1 = [k for k in data0 if str(k) != 'nan']\n",
    "            if (len(original_data1)<25):\n",
    "                continue\n",
    "            original_data = outlier(original_data1)\n",
    "            \n",
    "            if (i>3):\n",
    "                mode_d.iloc[l,j]=mode_f(original_data)\n",
    "            else:\n",
    "                mode_u.iloc[l,j]=mode_f(original_data)\n",
    "            \n",
    "  \n",
    "elapsed = timeit.default_timer() - start_time\n",
    "print(elapsed)"
   ]
  },
  {
   "cell_type": "code",
   "execution_count": 5,
   "metadata": {},
   "outputs": [],
   "source": [
    "mode_d.to_csv('mode_d.csv')\n",
    "mode_u.to_csv('mode_u.csv')"
   ]
  },
  {
   "cell_type": "code",
   "execution_count": null,
   "metadata": {},
   "outputs": [],
   "source": []
  }
 ],
 "metadata": {
  "kernelspec": {
   "display_name": "Python 3",
   "language": "python",
   "name": "python3"
  },
  "language_info": {
   "codemirror_mode": {
    "name": "ipython",
    "version": 3
   },
   "file_extension": ".py",
   "mimetype": "text/x-python",
   "name": "python",
   "nbconvert_exporter": "python",
   "pygments_lexer": "ipython3",
   "version": "3.6.6"
  }
 },
 "nbformat": 4,
 "nbformat_minor": 2
}
