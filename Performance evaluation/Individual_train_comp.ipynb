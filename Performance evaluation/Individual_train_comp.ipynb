{
 "cells": [
  {
   "cell_type": "code",
   "execution_count": 7,
   "metadata": {},
   "outputs": [],
   "source": [
    "%run read_data_1point5.ipynb"
   ]
  },
  {
   "cell_type": "code",
   "execution_count": 8,
   "metadata": {},
   "outputs": [],
   "source": [
    "%run functionv2.ipynb"
   ]
  },
  {
   "cell_type": "code",
   "execution_count": 9,
   "metadata": {},
   "outputs": [
    {
     "name": "stdout",
     "output_type": "stream",
     "text": [
      "2.631144259008579\n"
     ]
    }
   ],
   "source": [
    "start_time = timeit.default_timer()\n",
    "\n",
    "comp_u = copy.deepcopy(wtt_u)\n",
    "comp_d = copy.deepcopy(wtt_d)\n",
    "\n",
    "\n",
    "#f = open(\"Train_data_length.txt\", \"a\")\n",
    "for i in range(8):\n",
    "    for j in range(3,61):\n",
    "        data3 = crt_names[i].iloc[:,[0,j]]\n",
    "        #print(data3)\n",
    "        for l in range(54):\n",
    "            if (i>3):\n",
    "                wttv = wtt_d.iloc[l,j]\n",
    "                wtt_t = wtt_type_d.iloc[l,j]\n",
    "            else:\n",
    "                wttv = wtt_u.iloc[l,j]\n",
    "                wtt_t = wtt_type_u.iloc[l,j]\n",
    "                \n",
    "                \n",
    "            #Calculate runtime only from realised halt type data\n",
    "            if (wtt_t!=stop_type[i]):\n",
    "                continue\n",
    "                \n",
    "            if (i>3):\n",
    "                comp_d.iloc[l,j]=crt_names[i].iloc[l,j]\n",
    "            else:\n",
    "                comp_u.iloc[l,j]=crt_names[i].iloc[l,j]\n",
    "            \n",
    "  \n",
    "elapsed = timeit.default_timer() - start_time\n",
    "print(elapsed)"
   ]
  },
  {
   "cell_type": "code",
   "execution_count": 10,
   "metadata": {},
   "outputs": [],
   "source": [
    "comp_d.to_csv('comp_d.csv')\n",
    "comp_u.to_csv('comp_u.csv')"
   ]
  },
  {
   "cell_type": "code",
   "execution_count": null,
   "metadata": {},
   "outputs": [],
   "source": []
  }
 ],
 "metadata": {
  "kernelspec": {
   "display_name": "Python 3",
   "language": "python",
   "name": "python3"
  },
  "language_info": {
   "codemirror_mode": {
    "name": "ipython",
    "version": 3
   },
   "file_extension": ".py",
   "mimetype": "text/x-python",
   "name": "python",
   "nbconvert_exporter": "python",
   "pygments_lexer": "ipython3",
   "version": "3.6.6"
  }
 },
 "nbformat": 4,
 "nbformat_minor": 2
}
