{
 "cells": [
  {
   "cell_type": "code",
   "execution_count": 115,
   "metadata": {},
   "outputs": [],
   "source": [
    "import numpy as np\n",
    "import pandas as pd\n",
    "import datetime\n",
    "import matplotlib\n",
    "import matplotlib.pyplot as plt\n",
    "import seaborn as sns\n",
    "from scipy import stats\n",
    "from scipy.interpolate import Akima1DInterpolator\n",
    "import collections\n",
    "#import http.client\n",
    "import scipy\n",
    "import random\n",
    "import math\n",
    "import statistics\n",
    "from statistics import mean \n",
    "import timeit\n",
    "import copy\n",
    "import os\n",
    "import sys\n",
    "import warnings\n",
    "\n",
    "if not sys.warnoptions:\n",
    "    warnings.simplefilter(\"ignore\")"
   ]
  },
  {
   "cell_type": "markdown",
   "metadata": {},
   "source": [
    "Actual Realized runtime data"
   ]
  },
  {
   "cell_type": "code",
   "execution_count": 116,
   "metadata": {},
   "outputs": [],
   "source": [
    "realdata1 = pd.ExcelFile(\"OL-BS Occupancy Times.xlsx\")\n",
    "#print(realdata1.sheet_names)\n",
    "realdata = realdata1.parse(\"Open line BS occupancy time\",skiprows=1)\n",
    "realdata = realdata.replace('$', np.nan)\n",
    "realdata = realdata.replace(to_replace=0, value=np.nan)"
   ]
  },
  {
   "cell_type": "markdown",
   "metadata": {},
   "source": [
    "Working Time table data"
   ]
  },
  {
   "cell_type": "code",
   "execution_count": 117,
   "metadata": {},
   "outputs": [],
   "source": [
    "wtt = pd.ExcelFile(\"Current WTT wo traffic allowances.xlsx\")\n",
    "#print(realdata1.sheet_names)\n",
    "wtt_d = wtt.parse(\"WTT wo Traffic Allow DN\",skiprows=1)\n",
    "wtt_d = wtt_d.replace('$', np.nan)\n",
    "wtt_d = wtt_d.replace(to_replace=0, value=np.nan)\n",
    "wtt_u = wtt.parse(\"WTT wo Traffic Allow UP\",skiprows=1)\n",
    "wtt_u = wtt_u.replace('$', np.nan)\n",
    "wtt_u = wtt_u.replace(to_replace=0, value=np.nan)"
   ]
  },
  {
   "cell_type": "markdown",
   "metadata": {},
   "source": [
    "Stoppage information from working timetable"
   ]
  },
  {
   "cell_type": "code",
   "execution_count": 118,
   "metadata": {},
   "outputs": [],
   "source": [
    "wtt_type = pd.ExcelFile(\"WTT Stoppages.xlsx\")\n",
    "wtt_type_d = wtt_type.parse(\"WTT DN Stops\",skiprows=0)\n",
    "for i in (np.arange(0,54)):\n",
    "    for j in (np.arange(3,61)):\n",
    "        a = wtt_type_d.iloc[i,j] \n",
    "        a = a.replace('\"', '')\n",
    "        wtt_type_d.iloc[i,j] = a\n",
    "wtt_type_u = wtt_type.parse(\"WTT UP Stops\",skiprows=0)\n",
    "for i in (np.arange(0,54)):\n",
    "    for j in (np.arange(3,61)):\n",
    "        a = wtt_type_u.iloc[i,j] \n",
    "        a = a.replace('\"', '')\n",
    "        wtt_type_u.iloc[i,j] = a"
   ]
  },
  {
   "cell_type": "markdown",
   "metadata": {},
   "source": [
    "Computed Runtime by TCS"
   ]
  },
  {
   "cell_type": "code",
   "execution_count": 119,
   "metadata": {},
   "outputs": [],
   "source": [
    "crt = pd.ExcelFile(\"Computed RT ver 2.xlsx\")\n",
    "crt_dn_00 = crt.parse(\"RunTime DN 00\",skiprows=0)\n",
    "crt_dn_00 = crt_dn_00.replace('$', np.nan)\n",
    "crt_dn_00 = crt_dn_00.replace(to_replace=0, value=np.nan)\n",
    "crt_dn_01 = crt.parse(\"RunTime DN 01\",skiprows=0)\n",
    "crt_dn_01 = crt_dn_01.replace('$', np.nan)\n",
    "crt_dn_01 = crt_dn_01.replace(to_replace=0, value=np.nan)\n",
    "crt_dn_10 = crt.parse(\"RunTime DN 10\",skiprows=0)\n",
    "crt_dn_10 = crt_dn_10.replace('$', np.nan)\n",
    "crt_dn_10 = crt_dn_10.replace(to_replace=0, value=np.nan)\n",
    "crt_dn_11 = crt.parse(\"RunTime DN 11\",skiprows=0)\n",
    "crt_dn_11 = crt_dn_11.replace('$', np.nan)\n",
    "crt_dn_11 = crt_dn_11.replace(to_replace=0, value=np.nan)\n",
    "crt_up_00 = crt.parse(\"RunTime UP 00\",skiprows=0)\n",
    "crt_up_00 = crt_dn_00.replace('$', np.nan)\n",
    "crt_up_00 = crt_dn_00.replace(to_replace=0, value=np.nan)\n",
    "crt_up_01 = crt.parse(\"RunTime UP 01\",skiprows=0)\n",
    "crt_up_01 = crt_dn_01.replace('$', np.nan)\n",
    "crt_up_01 = crt_dn_01.replace(to_replace=0, value=np.nan)\n",
    "crt_up_10 = crt.parse(\"RunTime UP 10\",skiprows=0)\n",
    "crt_up_10 = crt_dn_10.replace('$', np.nan)\n",
    "crt_up_10 = crt_dn_10.replace(to_replace=0, value=np.nan)\n",
    "crt_up_11 = crt.parse(\"RunTime UP 11\",skiprows=0)\n",
    "crt_up_11 = crt_dn_11.replace('$', np.nan)\n",
    "crt_up_11 = crt_dn_11.replace(to_replace=0, value=np.nan)"
   ]
  },
  {
   "cell_type": "markdown",
   "metadata": {},
   "source": [
    "Block section names"
   ]
  },
  {
   "cell_type": "code",
   "execution_count": 120,
   "metadata": {},
   "outputs": [],
   "source": [
    "column = list(realdata.columns.values)\n",
    "column1 = column[3:]"
   ]
  },
  {
   "cell_type": "markdown",
   "metadata": {},
   "source": [
    "Up direction train no"
   ]
  },
  {
   "cell_type": "code",
   "execution_count": 121,
   "metadata": {},
   "outputs": [],
   "source": [
    "train_up = list(wtt_u[\"TrainMask\"].values)"
   ]
  },
  {
   "cell_type": "markdown",
   "metadata": {},
   "source": [
    "Down direction train no "
   ]
  },
  {
   "cell_type": "code",
   "execution_count": 122,
   "metadata": {},
   "outputs": [],
   "source": [
    "train_dn = list(wtt_d[\"TrainMask\"].values)"
   ]
  },
  {
   "cell_type": "markdown",
   "metadata": {},
   "source": [
    "Actual Realized Runtime Divided by halt type"
   ]
  },
  {
   "cell_type": "code",
   "execution_count": 123,
   "metadata": {},
   "outputs": [
    {
     "name": "stderr",
     "output_type": "stream",
     "text": [
      "/home/sufiyan/anaconda3/lib/python3.6/site-packages/ipykernel_launcher.py:4: FutureWarning: convert_objects is deprecated.  To re-infer data dtypes for object columns, use DataFrame.infer_objects()\n",
      "For all other conversions use the data-type specific converters pd.to_datetime, pd.to_timedelta and pd.to_numeric.\n",
      "  after removing the cwd from sys.path.\n",
      "/home/sufiyan/anaconda3/lib/python3.6/site-packages/ipykernel_launcher.py:8: FutureWarning: convert_objects is deprecated.  To re-infer data dtypes for object columns, use DataFrame.infer_objects()\n",
      "For all other conversions use the data-type specific converters pd.to_datetime, pd.to_timedelta and pd.to_numeric.\n",
      "  \n",
      "/home/sufiyan/anaconda3/lib/python3.6/site-packages/ipykernel_launcher.py:12: FutureWarning: convert_objects is deprecated.  To re-infer data dtypes for object columns, use DataFrame.infer_objects()\n",
      "For all other conversions use the data-type specific converters pd.to_datetime, pd.to_timedelta and pd.to_numeric.\n",
      "  if sys.path[0] == '':\n",
      "/home/sufiyan/anaconda3/lib/python3.6/site-packages/ipykernel_launcher.py:16: FutureWarning: convert_objects is deprecated.  To re-infer data dtypes for object columns, use DataFrame.infer_objects()\n",
      "For all other conversions use the data-type specific converters pd.to_datetime, pd.to_timedelta and pd.to_numeric.\n",
      "  app.launch_new_instance()\n"
     ]
    }
   ],
   "source": [
    "rt_00 = pd.read_csv(\"RT 00.csv\",skiprows=1)\n",
    "rt_00 = rt_00.replace('$', np.nan)\n",
    "rt_00 = rt_00.replace(to_replace=0, value=np.nan)\n",
    "rt_00[column1] = rt_00[column1].convert_objects(convert_numeric=True)\n",
    "rt_01 = pd.read_csv(\"RT 01.csv\",skiprows=1)\n",
    "rt_01 = rt_01.replace('$', np.nan)\n",
    "rt_01 = rt_01.replace(to_replace=0, value=np.nan)\n",
    "rt_01[column1] = rt_01[column1].convert_objects(convert_numeric=True)\n",
    "rt_10 = pd.read_csv(\"RT 10.csv\",skiprows=1)\n",
    "rt_10 = rt_10.replace('$', np.nan)\n",
    "rt_10 = rt_10.replace(to_replace=0, value=np.nan)\n",
    "rt_10[column1] = rt_10[column1].convert_objects(convert_numeric=True)\n",
    "rt_11 = pd.read_csv(\"RT 11.csv\",skiprows=1)\n",
    "rt_11 = rt_11.replace('$', np.nan)\n",
    "rt_11 = rt_11.replace(to_replace=0, value=np.nan)\n",
    "rt_11[column1] = rt_11[column1].convert_objects(convert_numeric=True)"
   ]
  },
  {
   "cell_type": "markdown",
   "metadata": {},
   "source": [
    "Read pre-processed Runtime"
   ]
  },
  {
   "cell_type": "code",
   "execution_count": null,
   "metadata": {},
   "outputs": [],
   "source": [
    "rt_00_up = pd.read_csv(\"rt_00_up.csv\",index_col=0)\n",
    "rt_01_up = pd.read_csv(\"rt_01_up.csv\",index_col=0)\n",
    "rt_10_up = pd.read_csv(\"rt_10_up.csv\",index_col=0)\n",
    "rt_11_up = pd.read_csv(\"rt_11_up.csv\",index_col=0)\n",
    "rt_00_dn = pd.read_csv(\"rt_00_dn.csv\",index_col=0)\n",
    "rt_01_dn = pd.read_csv(\"rt_01_dn.csv\",index_col=0)\n",
    "rt_10_dn = pd.read_csv(\"rt_10_dn.csv\",index_col=0)\n",
    "rt_11_dn = pd.read_csv(\"rt_11_dn.csv\",index_col=0)"
   ]
  },
  {
   "cell_type": "markdown",
   "metadata": {},
   "source": [
    "Collection of realised runtime files"
   ]
  },
  {
   "cell_type": "code",
   "execution_count": 125,
   "metadata": {},
   "outputs": [],
   "source": [
    "rt_names = [rt_00_up, rt_01_up, rt_10_up, rt_11_up, rt_00_dn, rt_01_dn, rt_10_dn, rt_11_dn]"
   ]
  },
  {
   "cell_type": "markdown",
   "metadata": {},
   "source": [
    "Collection of type of halt and direction"
   ]
  },
  {
   "cell_type": "code",
   "execution_count": null,
   "metadata": {},
   "outputs": [],
   "source": [
    "plot_type = [\"OO UP\", \"O1 UP\", \"1O UP\", \"11 UP\", \"OO DN\", \"O1 DN\", \"1O DN\", \"11 DN\"]"
   ]
  },
  {
   "cell_type": "markdown",
   "metadata": {},
   "source": [
    "Collection of computed runtime files"
   ]
  },
  {
   "cell_type": "code",
   "execution_count": null,
   "metadata": {},
   "outputs": [],
   "source": [
    "crt_names = [crt_up_00, crt_up_01, crt_up_10, crt_up_11, crt_dn_00, crt_dn_01, crt_dn_10, crt_dn_11]"
   ]
  },
  {
   "cell_type": "markdown",
   "metadata": {},
   "source": [
    "Stoppage type of each file"
   ]
  },
  {
   "cell_type": "code",
   "execution_count": null,
   "metadata": {},
   "outputs": [],
   "source": [
    "stop_type = ['00','01','10','11','00','01','10','11']"
   ]
  }
 ],
 "metadata": {
  "kernelspec": {
   "display_name": "Python 3",
   "language": "python",
   "name": "python3"
  },
  "language_info": {
   "codemirror_mode": {
    "name": "ipython",
    "version": 3
   },
   "file_extension": ".py",
   "mimetype": "text/x-python",
   "name": "python",
   "nbconvert_exporter": "python",
   "pygments_lexer": "ipython3",
   "version": "3.6.6"
  }
 },
 "nbformat": 4,
 "nbformat_minor": 2
}
