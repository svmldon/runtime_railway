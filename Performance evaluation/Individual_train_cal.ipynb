{
 "cells": [
  {
   "cell_type": "code",
   "execution_count": 12,
   "metadata": {},
   "outputs": [],
   "source": [
    "%run read_data_1point5.ipynb"
   ]
  },
  {
   "cell_type": "code",
   "execution_count": 13,
   "metadata": {},
   "outputs": [],
   "source": [
    "script_dir = os.path.dirname('__file__')\n",
    "results_dir = os.path.join(script_dir, 'Indv_train/')\n",
    "if not os.path.isdir(results_dir):\n",
    "    os.makedirs(results_dir)\n",
    "    \n",
    "#script_dir = os.path.dirname('__file__')\n",
    "results_dir1 = os.path.join(script_dir, 'Indv_train_CDF/')\n",
    "if not os.path.isdir(results_dir1):\n",
    "    os.makedirs(results_dir1)\n",
    "    \n",
    "#script_dir = os.path.dirname('__file__')\n",
    "results_dir2 = os.path.join(script_dir, 'Indv_train_count/')\n",
    "if not os.path.isdir(results_dir2):\n",
    "    os.makedirs(results_dir2)\n",
    "    \n",
    "#script_dir = os.path.dirname('__file__')\n",
    "results_dir3 = os.path.join(script_dir, 'Indv_train_box/')\n",
    "if not os.path.isdir(results_dir3):\n",
    "    os.makedirs(results_dir3)"
   ]
  },
  {
   "cell_type": "code",
   "execution_count": 14,
   "metadata": {},
   "outputs": [],
   "source": [
    "%run functionv2.ipynb"
   ]
  },
  {
   "cell_type": "code",
   "execution_count": 15,
   "metadata": {},
   "outputs": [
    {
     "name": "stdout",
     "output_type": "stream",
     "text": [
      "254.7654908679542\n"
     ]
    }
   ],
   "source": [
    "start_time = timeit.default_timer()\n",
    "\n",
    "cal_u = copy.deepcopy(wtt_u)\n",
    "cal_d = copy.deepcopy(wtt_d)\n",
    "\n",
    "\n",
    "#f = open(\"Train_data_length.txt\", \"a\")\n",
    "for i in range(8):\n",
    "    runtime_block1 = []\n",
    "    for j in range(3,61):\n",
    "        data3 = rt_names[i].iloc[:,[0,j]]\n",
    "        #print(data3)\n",
    "        for l in range(54):\n",
    "            if (i>3):\n",
    "                wttv = wtt_d.iloc[l,j]\n",
    "                wtt_t = wtt_type_d.iloc[l,j]\n",
    "            else:\n",
    "                wttv = wtt_u.iloc[l,j]\n",
    "                wtt_t = wtt_type_u.iloc[l,j]\n",
    "                \n",
    "                \n",
    "            #Calculate runtime only from realised halt type data\n",
    "            if (wtt_t!=stop_type[i]):\n",
    "                continue\n",
    "                \n",
    "            #Getting runtime data    \n",
    "            if (i>3):\n",
    "                data1 = data3[data3['TrainMaskNo']==wtt_d.iloc[l,0]]\n",
    "            else:\n",
    "                data1 = data3[data3['TrainMaskNo']==wtt_u.iloc[l,0]]\n",
    "            data0 = data1.iloc[:,1]\n",
    "            original_data1 = [k for k in data0 if str(k) != 'nan']\n",
    "            if (len(original_data1)<25):\n",
    "                continue\n",
    "            original_data = outlier(original_data1)\n",
    "            #print(original_data)\n",
    "            if (len(original_data)<150):\n",
    "                data2 = clt_conversion_10_per_org(data0)\n",
    "            else:\n",
    "                data2 = clt_conversion_10_per_150_org(data0)\n",
    "            data = outlier(data2)\n",
    "            if (len(data)<25):\n",
    "                #print(str(j-2)+'.'+str(l+1)+' '+str(plot_type[i])+\"Less 20\",file=f)\n",
    "                runtime_block1.append(np.nan)\n",
    "                continue\n",
    "            #print(str(j-2)+'.'+str(l+1)+' '+str(plot_type[i])+\"  Length of data=\",len(data),file=f)\n",
    "            t_dist = stats.t\n",
    "            par_est = t_dist.fit(data)\n",
    "            generated_data = t_dist.rvs(*par_est[:-2], loc=par_est[-2], scale=par_est[-1], size=len(data))\n",
    "            rt_cal=0\n",
    "            if (len(generated_data)>100):\n",
    "                rt_cal = max(generated_data)+0.1*max(generated_data)\n",
    "                rt_cal1 = str(rt_cal)\n",
    "                n_decimal = rt_cal1.index('.')\n",
    "                f_decimal = int(rt_cal1[n_decimal +1])\n",
    "                if (f_decimal>=3):\n",
    "                    rt_cal=math.ceil(rt_cal)\n",
    "                else:\n",
    "                    rt_cal=math.floor(rt_cal)\n",
    "            else:\n",
    "                rt_cal = max(generated_data)-0.1*max(generated_data)\n",
    "                rt_cal1 = str(rt_cal)\n",
    "                n_decimal = rt_cal1.index('.')\n",
    "                f_decimal = int(rt_cal1[n_decimal +1])\n",
    "                if (f_decimal>=5):\n",
    "                    rt_cal=math.floor(rt_cal)\n",
    "                else:\n",
    "                    rt_cal=math.ceil(rt_cal)\n",
    "            if (i>3):\n",
    "                cal_d.iloc[l,j]=rt_cal\n",
    "            else:\n",
    "                cal_u.iloc[l,j]=rt_cal\n",
    "            \n",
    "  \n",
    "elapsed = timeit.default_timer() - start_time\n",
    "print(elapsed)"
   ]
  },
  {
   "cell_type": "code",
   "execution_count": 16,
   "metadata": {},
   "outputs": [],
   "source": [
    "cal_d.to_csv('cal_d.csv')\n",
    "cal_u.to_csv('cal_u.csv')"
   ]
  },
  {
   "cell_type": "code",
   "execution_count": null,
   "metadata": {},
   "outputs": [],
   "source": []
  }
 ],
 "metadata": {
  "kernelspec": {
   "display_name": "Python 3",
   "language": "python",
   "name": "python3"
  },
  "language_info": {
   "codemirror_mode": {
    "name": "ipython",
    "version": 3
   },
   "file_extension": ".py",
   "mimetype": "text/x-python",
   "name": "python",
   "nbconvert_exporter": "python",
   "pygments_lexer": "ipython3",
   "version": "3.6.6"
  }
 },
 "nbformat": 4,
 "nbformat_minor": 2
}
