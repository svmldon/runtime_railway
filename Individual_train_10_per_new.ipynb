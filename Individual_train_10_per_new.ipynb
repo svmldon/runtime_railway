{
 "cells": [
  {
   "cell_type": "code",
   "execution_count": 6,
   "metadata": {},
   "outputs": [],
   "source": [
    "%run read_data.ipynb"
   ]
  },
  {
   "cell_type": "code",
   "execution_count": 7,
   "metadata": {},
   "outputs": [],
   "source": [
    "script_dir = os.path.dirname('__file__')\n",
    "results_dir = os.path.join(script_dir, 'Indv_train/')\n",
    "if not os.path.isdir(results_dir):\n",
    "    os.makedirs(results_dir)\n",
    "    \n",
    "#script_dir = os.path.dirname('__file__')\n",
    "results_dir1 = os.path.join(script_dir, 'Indv_train_CDF/')\n",
    "if not os.path.isdir(results_dir1):\n",
    "    os.makedirs(results_dir1)\n",
    "    \n",
    "#script_dir = os.path.dirname('__file__')\n",
    "results_dir2 = os.path.join(script_dir, 'Indv_train_count/')\n",
    "if not os.path.isdir(results_dir2):\n",
    "    os.makedirs(results_dir2)\n",
    "    \n",
    "#script_dir = os.path.dirname('__file__')\n",
    "results_dir3 = os.path.join(script_dir, 'Indv_train_box/')\n",
    "if not os.path.isdir(results_dir3):\n",
    "    os.makedirs(results_dir3)"
   ]
  },
  {
   "cell_type": "code",
   "execution_count": 8,
   "metadata": {},
   "outputs": [],
   "source": [
    "%run functionv2.ipynb"
   ]
  },
  {
   "cell_type": "code",
   "execution_count": null,
   "metadata": {},
   "outputs": [],
   "source": [
    "import timeit\n",
    "start_time = timeit.default_timer()\n",
    "\n",
    "\n",
    "import sys\n",
    "import warnings\n",
    "\n",
    "if not sys.warnoptions:\n",
    "    warnings.simplefilter(\"ignore\")\n",
    "\n",
    "runtime_block = []\n",
    "f = open(\"Train_data_length.txt\", \"a\")\n",
    "for i in range(8):\n",
    "    runtime_block1 = []\n",
    "    for j in range(3,61):\n",
    "        data3 = rt_names[i].iloc[:,[0,j]]\n",
    "        #print(data3)\n",
    "        for l in range(54):\n",
    "            if (i>3):\n",
    "                data1 = data3[data3['TrainMaskNo']==wtt_d.iloc[l,0]]\n",
    "            else:\n",
    "                data1 = data3[data3['TrainMaskNo']==wtt_u.iloc[l,0]]\n",
    "            data0 = data1.iloc[:,1]\n",
    "            original_data1 = [k for k in data0 if str(k) != 'nan']\n",
    "            if (len(original_data1)<25):\n",
    "                continue\n",
    "            original_data = outlier(original_data1)\n",
    "            #print(original_data)\n",
    "            if (len(original_data)<150):\n",
    "                data2 = clt_conversion_10_per(data0)\n",
    "            else:\n",
    "                data2 = clt_conversion150_10(data0)\n",
    "            data = outlier(data2)\n",
    "            if (len(data)<25):\n",
    "                print(str(j-2)+'.'+str(l+1)+' '+str(plot_type[i])+\"Less 20\",file=f)\n",
    "                runtime_block1.append(np.nan)\n",
    "                continue\n",
    "            print(str(j-2)+'.'+str(l+1)+' '+str(plot_type[i])+\"  Length of data=\",len(data),file=f)\n",
    "            t_dist = stats.t\n",
    "            par_est = t_dist.fit(data)\n",
    "            generated_data = t_dist.rvs(*par_est[:-2], loc=par_est[-2], scale=par_est[-1], size=len(data))\n",
    "            #print(par_est[-2])\n",
    "            #runtime_block1.append(math.floor(par_est[-2])+1)\n",
    "            density_plot_train(data,original_data,generated_data,i,j,l)\n",
    "            cdf_plot_train(data,original_data,generated_data,i,j,l)\n",
    "            count_plot_train(data,original_data,generated_data,i,j,l)\n",
    "            box_plot_train(data,original_data,generated_data,i,j,l)\n",
    "    #runtime_block.append(runtime_block1)\n",
    "#print(runtime_block)   \n",
    "f.close()     \n",
    "elapsed = timeit.default_timer() - start_time\n",
    "print(elapsed)"
   ]
  },
  {
   "cell_type": "code",
   "execution_count": null,
   "metadata": {},
   "outputs": [],
   "source": [
    "writer = pd.ExcelWriter('estimated_runtime.xlsx', engine='xlsxwriter')\n",
    "types = ['_up_00','_up_01','_up_10','_up_11','_dn_00','_dn_01','_dn_10','_dn_11']\n",
    "for i in range(8):\n",
    "    pd.DataFrame({'Block':column1,'Run_time':runtime_block[i]}).to_excel(writer, sheet_name='runtime'+str(types[i]), index=False)\n",
    "writer.save()"
   ]
  },
  {
   "cell_type": "code",
   "execution_count": null,
   "metadata": {},
   "outputs": [],
   "source": []
  }
 ],
 "metadata": {
  "kernelspec": {
   "display_name": "Python 3",
   "language": "python",
   "name": "python3"
  },
  "language_info": {
   "codemirror_mode": {
    "name": "ipython",
    "version": 3
   },
   "file_extension": ".py",
   "mimetype": "text/x-python",
   "name": "python",
   "nbconvert_exporter": "python",
   "pygments_lexer": "ipython3",
   "version": "3.6.6"
  }
 },
 "nbformat": 4,
 "nbformat_minor": 2
}
