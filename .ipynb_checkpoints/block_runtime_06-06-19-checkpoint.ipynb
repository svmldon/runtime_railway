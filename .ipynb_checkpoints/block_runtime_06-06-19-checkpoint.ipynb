{
 "cells": [
  {
   "cell_type": "code",
   "execution_count": null,
   "metadata": {},
   "outputs": [],
   "source": [
    "%run read_data.ipynb"
   ]
  },
  {
   "cell_type": "code",
   "execution_count": null,
   "metadata": {},
   "outputs": [],
   "source": [
    "script_dir = os.path.dirname('__file__')\n",
    "results_dir4 = os.path.join(script_dir, 'Block_density/')\n",
    "if not os.path.isdir(results_dir4):\n",
    "    os.makedirs(results_dir4)\n",
    "    \n",
    "results_dir5 = os.path.join(script_dir, 'Block_CDF/')\n",
    "if not os.path.isdir(results_dir5):\n",
    "    os.makedirs(results_dir5)\n",
    "    \n",
    "results_dir6 = os.path.join(script_dir, 'Block_count/')\n",
    "if not os.path.isdir(results_dir6):\n",
    "    os.makedirs(results_dir6)\n",
    "    \n",
    "results_dir7 = os.path.join(script_dir, 'Block_box/')\n",
    "if not os.path.isdir(results_dir7):\n",
    "    os.makedirs(results_dir7)"
   ]
  },
  {
   "cell_type": "code",
   "execution_count": null,
   "metadata": {},
   "outputs": [],
   "source": [
    "%run functionv3.ipynb"
   ]
  },
  {
   "cell_type": "code",
   "execution_count": null,
   "metadata": {},
   "outputs": [],
   "source": [
    "import timeit\n",
    "start_time = timeit.default_timer()\n",
    "\n",
    "\n",
    "import sys\n",
    "import warnings\n",
    "\n",
    "if not sys.warnoptions:\n",
    "    warnings.simplefilter(\"ignore\")\n",
    "\n",
    "f = open(\"Block_data_length.txt\", \"a\")\n",
    "for i in range(8):\n",
    "    for j in range(3,61):\n",
    "        data1 = rt_names[i].iloc[:,j]\n",
    "        #data0 = data1.iloc[:,1]\n",
    "        original_data1 = [k for k in data1 if str(k) != 'nan']\n",
    "        if (len(original_data1)<30):\n",
    "            continue\n",
    "        original_data = outlier(original_data1)\n",
    "        if (len(original_data)<150):\n",
    "            data2 = clt_conversion_10_per_org(data1)\n",
    "        else:\n",
    "            data2 = clt_conversion_10_per_150_org(data1)\n",
    "        data = outlier(data2)\n",
    "        if (len(data)<30):\n",
    "            print(str(j-2)+' '+str(plot_type[i])+\" Less 30\",file=f)\n",
    "            continue\n",
    "        print(str(j-2)+' '+str(plot_type[i])+\"  Length of data=\",len(data),file=f)\n",
    "        t_dist = stats.t\n",
    "        par_est = t_dist.fit(data)\n",
    "        generated_data = t_dist.rvs(*par_est[:-2], loc=par_est[-2], scale=par_est[-1], size=len(data))\n",
    "        density_plot_block(data,original_data,generated_data,i,j)\n",
    "        cdf_plot_block(data,original_data,generated_data,i,j)\n",
    "        count_plot_block(data,original_data,generated_data,i,j)\n",
    "        box_plot_block(data,original_data,generated_data,i,j) \n",
    "f.close()\n",
    "elapsed = timeit.default_timer() - start_time\n",
    "print(elapsed)"
   ]
  },
  {
   "cell_type": "code",
   "execution_count": null,
   "metadata": {},
   "outputs": [],
   "source": [
    "writer = pd.ExcelWriter('estimated_runtime.xlsx', engine='xlsxwriter')\n",
    "types = ['_up_00','_up_01','_up_10','_up_11','_dn_00','_dn_01','_dn_10','_dn_11']\n",
    "for i in range(8):\n",
    "    pd.DataFrame({'Block':column1,'Run_time':runtime_block[i]}).to_excel(writer, sheet_name='runtime'+str(types[i]), index=False)\n",
    "writer.save()"
   ]
  },
  {
   "cell_type": "code",
   "execution_count": null,
   "metadata": {},
   "outputs": [],
   "source": []
  }
 ],
 "metadata": {
  "kernelspec": {
   "display_name": "Python 3",
   "language": "python",
   "name": "python3"
  },
  "language_info": {
   "codemirror_mode": {
    "name": "ipython",
    "version": 3
   },
   "file_extension": ".py",
   "mimetype": "text/x-python",
   "name": "python",
   "nbconvert_exporter": "python",
   "pygments_lexer": "ipython3",
   "version": "3.6.6"
  }
 },
 "nbformat": 4,
 "nbformat_minor": 2
}
